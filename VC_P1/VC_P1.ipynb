{
 "cells": [
  {
   "cell_type": "markdown",
   "metadata": {},
   "source": [
    "Paquetes necesarios"
   ]
  },
  {
   "cell_type": "code",
   "execution_count": 1,
   "metadata": {},
   "outputs": [],
   "source": [
    "import cv2  \n",
    "import numpy as np\n",
    "import matplotlib.pyplot as plt"
   ]
  },
  {
   "cell_type": "markdown",
   "metadata": {},
   "source": [
    "TAREA: Crea una imagen, p.e. de 800x800 píxeles, con la textura del tablero de ajedrez"
   ]
  },
  {
   "cell_type": "code",
   "execution_count": 5,
   "metadata": {},
   "outputs": [
    {
     "data": {
      "image/png": "[encoded data removed]",
      "text/plain": [
       "<Figure size 640x480 with 1 Axes>"
      ]
     },
     "metadata": {},
     "output_type": "display_data"
    }
   ],
   "source": [
    "gris_img = np.zeros((800,800,1), dtype = np.uint8)\n",
    "#Modifica un par de zonas rectangulares de la imagen\n",
    "height=100\n",
    "width=100\n",
    "\n",
    "for i in range(8):\n",
    "    for j in range(8):\n",
    "        if (i % 2 == 0 and j % 2 == 0) or (i % 2 != 0 and j % 2 != 0):\n",
    "            x_start = i * width\n",
    "            x_end = x_start + width\n",
    "            y_start = j * height\n",
    "            y_end = y_start + height\n",
    "            gris_img[x_start:x_end, y_start:y_end, 0] = 255\n",
    "            \n",
    "        \n",
    "\n",
    "plt.imshow(gris_img, cmap='gray') #Te animo a probar a eliminar la especificación del mapa de color\n",
    "plt.show()"
   ]
  },
  {
   "cell_type": "markdown",
   "metadata": {},
   "source": [
    "TAREA: Crear una imagen estilo Mondrian (un ejemplo https://www3.gobiernodecanarias.org/medusa/ecoescuela/sa/2017/04/17/descubriendo-a-mondrian/ ) con las funciones de dibujo de OpenCV"
   ]
  },
  {
   "cell_type": "code",
   "execution_count": 6,
   "metadata": {},
   "outputs": [
    {
     "data": {
      "image/png": "[encoded data removed]",
      "text/plain": [
       "<Figure size 640x480 with 1 Axes>"
      ]
     },
     "metadata": {},
     "output_type": "display_data"
    }
   ],
   "source": [
    "#Crea una imagen con tres planos\n",
    "color_img = np.zeros((325,400,3), dtype = np.uint8)\n",
    "\n",
    "# Primera fila\n",
    "cv2.rectangle(color_img,(0,0),(15,100),(255,255,255),-1)\n",
    "cv2.rectangle(color_img,(25,0),(80,100),(255,255,0),-1)\n",
    "cv2.rectangle(color_img,(90,0),(200,100),(0,0,255),-1)\n",
    "cv2.rectangle(color_img,(210,0),(330,100),(255,0,0),-1)\n",
    "cv2.rectangle(color_img,(340,0),(360,100),(255,255,0),-1)\n",
    "cv2.rectangle(color_img,(370,0),(400,100),(255,255,255),-1)\n",
    "\n",
    "# Segunda filla\n",
    "cv2.rectangle(color_img,(0,110),(15,200),(255,255,255),-1)\n",
    "cv2.rectangle(color_img,(25,110),(80,200),(255,255,255),-1)\n",
    "cv2.rectangle(color_img,(90,110),(200,200),(255,255,255),-1)\n",
    "cv2.rectangle(color_img,(210,110),(240,200),(255,255,255),-1)\n",
    "cv2.rectangle(color_img,(250,110),(330,200),(0,0,255),-1)\n",
    "cv2.rectangle(color_img,(340,110),(360,200),(255,0,0),-1)\n",
    "\n",
    "# Tercera fila\n",
    "cv2.rectangle(color_img,(25,210),(80,260),(255,255,255),-1)\n",
    "cv2.rectangle(color_img,(90,210),(240,260),(255,0,0),-1)\n",
    "cv2.rectangle(color_img,(250,210),(330,260),(255,255,255),-1)\n",
    "cv2.rectangle(color_img,(340,210),(360,260),(255,255,0),-1)\n",
    "\n",
    "# Cuarta fila\n",
    "cv2.rectangle(color_img,(25,270),(80,350),(0,0,255),-1)\n",
    "cv2.rectangle(color_img,(90,270),(240,350),(255,255,0),-1)\n",
    "cv2.rectangle(color_img,(250,270),(360,350),(255,255,255),-1)\n",
    "cv2.rectangle(color_img,(370,270),(400,350),(255,255,255),-1)\n",
    "\n",
    "# Rectangulos en varias filas\n",
    "# 2 y 3\n",
    "cv2.rectangle(color_img,(370,110),(400,260),(255,255,255),-1)\n",
    "# 3 y 4\n",
    "cv2.rectangle(color_img,(0,210),(15,350),(255,255,255),-1)\n",
    "\n",
    "#Visualiza sin especificar el mapa de color gris\n",
    "plt.imshow(color_img) \n",
    "plt.show()"
   ]
  },
  {
   "cell_type": "markdown",
   "metadata": {},
   "source": [
    "TAREA: Modifica de forma libre los valores de un plano de la imagen"
   ]
  },
  {
   "cell_type": "code",
   "execution_count": null,
   "metadata": {},
   "outputs": [],
   "source": [
    "# Captura desde la cámara\n",
    "vid = cv2.VideoCapture(0)\n",
    "\n",
    "while True:\n",
    "    # fotograma a fotograma\n",
    "    ret, frame = vid.read()\n",
    "\n",
    "    if ret:\n",
    "        # Modificamos el canal azul\n",
    "        frame[:,:,0] = frame[:,:,2]  # cambiar el valor del canal azul al que tiene el rojo\n",
    "\n",
    "\n",
    "        cv2.imshow('WebCam', frame)\n",
    "    if cv2.waitKey(20) == 27:  # ESC para salir\n",
    "        break\n",
    "\n",
    "# Libera el objeto de captura\n",
    "vid.release()\n",
    "# Destruye ventanas\n",
    "cv2.destroyAllWindows()"
   ]
  },
  {
   "cell_type": "markdown",
   "metadata": {},
   "source": [
    "TAREA:\n",
    "Pintar círculos en las posiciones del píxel más claro y oscuro de la imagen \n",
    "¿Si quisieras hacerlo sobre la zona 8x8 más clara/oscura?"
   ]
  },
  {
   "cell_type": "code",
   "execution_count": 9,
   "metadata": {},
   "outputs": [],
   "source": [
    "vid = cv2.VideoCapture(0)\n",
    "\n",
    "# Dimensiones de la cámara\n",
    "w = int(vid.get(cv2.CAP_PROP_FRAME_WIDTH))\n",
    "h = int(vid.get(cv2.CAP_PROP_FRAME_HEIGHT))\n",
    "\n",
    "# Fuerzo a mitad de resolución para ocupar menos pantalla\n",
    "w = int(w/2)\n",
    "h = int(h/2)\n",
    "vid.set(cv2.CAP_PROP_FRAME_WIDTH, w)\n",
    "\n",
    "#En Mac no reacciona a estos comandos \n",
    "vid.set(cv2.CAP_PROP_FRAME_HEIGHT, h) \n",
    "\n",
    "\n",
    "while True:\n",
    "    ret, frameIN = vid.read()\n",
    "    frame = cv2.resize(frameIN, (w, h), cv2.INTER_NEAREST)\n",
    "\n",
    "    if ret:\n",
    "        # Pasamos el frame a escala de grises\n",
    "        gray = cv2.cvtColor(frame, cv2.COLOR_BGR2GRAY)\n",
    "\n",
    "        # Buscamos el pixel más oscuro y el más claro\n",
    "        minVal, maxVal, minLoc, maxLoc = cv2.minMaxLoc(gray)\n",
    "\n",
    "        # Dibujamos círculos en esas posiciones\n",
    "        cv2.circle(frame, minLoc, 5, (255, 0, 0), 2) # Azul en pixel más oscuro\n",
    "        cv2.circle(frame, maxLoc, 5, (0, 0, 255), 2) # Rojo en pixel más claro\n",
    "\n",
    "        # Mostrar el resultado\n",
    "        cv2.imshow('Cam', frame)\n",
    "\n",
    "    # Salir con ESC\n",
    "    if cv2.waitKey(20) == 27:\n",
    "        break\n",
    "\n",
    "vid.release()\n",
    "cv2.destroyAllWindows()"
   ]
  },
  {
   "cell_type": "markdown",
   "metadata": {},
   "source": [
    "TAREA: Llevar a cabo una propuesta propia de pop art"
   ]
  },
  {
   "cell_type": "code",
   "execution_count": 8,
   "metadata": {},
   "outputs": [],
   "source": [
    "vid = cv2.VideoCapture(0)\n",
    "\n",
    "# Obtenemos las dimensiones de la cámara\n",
    "w = int(vid.get(cv2.CAP_PROP_FRAME_WIDTH))\n",
    "h = int(vid.get(cv2.CAP_PROP_FRAME_HEIGHT))\n",
    "\n",
    "# Reduzco resolución: cada caja será w/6 por h/3 → 3 filas x 6 columnas\n",
    "w = int(w/6)\n",
    "h = int(h/3)\n",
    "\n",
    "# (Opcional, normalmente no funciona en muchas webcams)\n",
    "vid.set(cv2.CAP_PROP_FRAME_WIDTH, w)\n",
    "vid.set(cv2.CAP_PROP_FRAME_HEIGHT, h)\n",
    "\n",
    "# Lienzo de 3 filas x 6 columnas (18 cajas)\n",
    "collage = np.zeros((h*3, w*6, 3), dtype=np.uint8)\n",
    "\n",
    "# Color boxes (izquierda 3x3)\n",
    "box_00 = collage[0:h, 0:w]\n",
    "box_01 = collage[0:h, w:2*w]\n",
    "box_02 = collage[0:h, 2*w:3*w]\n",
    "box_10 = collage[h:2*h, 0:w]\n",
    "box_11 = collage[h:2*h, w:2*w]\n",
    "box_12 = collage[h:2*h, 2*w:3*w]\n",
    "box_20 = collage[2*h:3*h, 0:w]\n",
    "box_21 = collage[2*h:3*h, w:2*w]\n",
    "box_22 = collage[2*h:3*h, 2*w:3*w]\n",
    "\n",
    "# Gray boxes (derecha 3x3)\n",
    "box_03 = collage[0:h, 3*w:4*w]\n",
    "box_04 = collage[0:h, 4*w:5*w]\n",
    "box_05 = collage[0:h, 5*w:6*w]\n",
    "box_13 = collage[h:2*h, 3*w:4*w]\n",
    "box_14 = collage[h:2*h, 4*w:5*w]\n",
    "box_15 = collage[h:2*h, 5*w:6*w]\n",
    "box_23 = collage[2*h:3*h, 3*w:4*w]\n",
    "box_24 = collage[2*h:3*h, 4*w:5*w]\n",
    "box_25 = collage[2*h:3*h, 5*w:6*w]\n",
    "\n",
    "while True:\n",
    "    ret, frame = vid.read()\n",
    "    if not ret:\n",
    "        break\n",
    "\n",
    "    # Redimensionamos frame a (w, h)\n",
    "    frame = cv2.resize(frame, (w, h))\n",
    "\n",
    "    # Separamos canales del frame original\n",
    "    b = frame[:,:,0]\n",
    "    g = frame[:,:,1]\n",
    "    r = frame[:,:,2]\n",
    "\n",
    "    # Frame en escala de grises (convertido a 3 canales)\n",
    "    gray = cv2.cvtColor(frame, cv2.COLOR_BGR2GRAY)\n",
    "    gray = cv2.cvtColor(gray, cv2.COLOR_GRAY2BGR)\n",
    "\n",
    "    # --- Color boxes ---\n",
    "    box_00[:,:,0], box_00[:,:,1], box_00[:,:,2] = b, g, 255 - r\n",
    "    box_01[:,:,0], box_01[:,:,1], box_01[:,:,2] = b, 255 - g, r\n",
    "    box_02[:,:,0], box_02[:,:,1], box_02[:,:,2] = 255 - b, g, r\n",
    "    box_10[:,:,0], box_10[:,:,1], box_10[:,:,2] = b, g, 170 - r\n",
    "    box_11[:,:,0], box_11[:,:,1], box_11[:,:,2] = b, 170 - g, r\n",
    "    box_12[:,:,0], box_12[:,:,1], box_12[:,:,2] = 170 - b, g, r\n",
    "    box_20[:,:,0], box_20[:,:,1], box_20[:,:,2] = b, g, 85 - r\n",
    "    box_21[:,:,0], box_21[:,:,1], box_21[:,:,2] = b, 85 - g, r\n",
    "    box_22[:,:,0], box_22[:,:,1], box_22[:,:,2] = 85 - b, g, r\n",
    "\n",
    "    # --- Gray boxes ---\n",
    "    box_03[:,:,:] = gray\n",
    "    box_04[:,:,:] = 255 - gray\n",
    "    box_05[:,:,:] = cv2.convertScaleAbs(gray, alpha=0.66, beta=0)\n",
    "    box_13[:,:,:] = cv2.convertScaleAbs(gray, alpha=0.66, beta=50)\n",
    "    box_14[:,:,:] = cv2.convertScaleAbs(gray, alpha=0.5, beta=100)\n",
    "    box_15[:,:,:] = cv2.convertScaleAbs(gray, alpha=0.33, beta=150)\n",
    "    box_23[:,:,:] = cv2.convertScaleAbs(gray, alpha=1.2, beta=0)\n",
    "    box_24[:,:,:] = cv2.convertScaleAbs(gray, alpha=1.2, beta=50)\n",
    "    box_25[:,:,:] = cv2.convertScaleAbs(gray, alpha=1.2, beta=100)\n",
    "\n",
    "    # Mostrar composición\n",
    "    cv2.imshow('Cam', collage)\n",
    "\n",
    "    if cv2.waitKey(20) == 27:  # Esc para salir\n",
    "        break\n",
    "\n",
    "vid.release()\n",
    "cv2.destroyAllWindows()\n"
   ]
  }
 ],
 "metadata": {
  "kernelspec": {
   "display_name": "VC_P1",
   "language": "python",
   "name": "python3"
  },
  "language_info": {
   "codemirror_mode": {
    "name": "ipython",
    "version": 3
   },
   "file_extension": ".py",
   "mimetype": "text/x-python",
   "name": "python",
   "nbconvert_exporter": "python",
   "pygments_lexer": "ipython3",
   "version": "3.11.13"
  },
  "orig_nbformat": 4
 },
 "nbformat": 4,
 "nbformat_minor": 2
}
